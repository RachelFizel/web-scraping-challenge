{
 "cells": [
  {
   "cell_type": "code",
   "execution_count": 10,
   "metadata": {},
   "outputs": [],
   "source": [
    "import pandas as pd\n",
    "from splinter import Browser\n",
    "from bs4 import BeautifulSoup as bs\n",
    "from webdriver_manager.chrome import ChromeDriverManager\n",
    "import requests\n",
    "import pymongo"
   ]
  },
  {
   "cell_type": "code",
   "execution_count": 11,
   "metadata": {},
   "outputs": [
    {
     "name": "stderr",
     "output_type": "stream",
     "text": [
      "[WDM] - ====== WebDriver manager ======\n",
      "[WDM] - Current google-chrome version is 89.0.4389\n",
      "[WDM] - Get LATEST driver version for 89.0.4389\n",
      "[WDM] - Driver [C:\\Users\\rache\\.wdm\\drivers\\chromedriver\\win32\\89.0.4389.23\\chromedriver.exe] found in cache\n"
     ]
    },
    {
     "name": "stdout",
     "output_type": "stream",
     "text": [
      "\n",
      "\n"
     ]
    }
   ],
   "source": [
    "#setup splinter\n",
    "executable_path = {'executable_path': ChromeDriverManager().install()}\n",
    "browser = Browser('chrome', **executable_path, headless=False)"
   ]
  },
  {
   "cell_type": "code",
   "execution_count": 12,
   "metadata": {},
   "outputs": [],
   "source": [
    "url = 'https://redplanetscience.com/'\n",
    "browser.visit(url)"
   ]
  },
  {
   "cell_type": "code",
   "execution_count": 13,
   "metadata": {},
   "outputs": [],
   "source": [
    "# Initialize PyMongo to work with MongoDBs\n",
    "#conn = 'mongodb://localhost:27017'\n",
    "#client = pymongo.MongoClient(conn)"
   ]
  },
  {
   "cell_type": "code",
   "execution_count": 14,
   "metadata": {},
   "outputs": [],
   "source": [
    "# Define database and collection\n",
    "#db = client.mission_to_mars_db\n",
    "#collection = db.articles"
   ]
  },
  {
   "cell_type": "code",
   "execution_count": 15,
   "metadata": {},
   "outputs": [],
   "source": [
    "#URL of page to be scraped\n",
    "#url = 'https://redplanetscience.com/'\n",
    "\n",
    "# Retrieve page with the requests module\n",
    "#response = requests.get(url)\n",
    "\n",
    "# Create BeautifulSoup object; parse with 'html.parser'\n",
    "#soup = bs(response.text, 'html.parser')\n"
   ]
  },
  {
   "cell_type": "code",
   "execution_count": null,
   "metadata": {},
   "outputs": [],
   "source": []
  },
  {
   "cell_type": "code",
   "execution_count": 16,
   "metadata": {},
   "outputs": [],
   "source": [
    "# Retrieve the parent divs for all articles\n",
    "#results = soup.find_all('section', class_='image_and_description_containe')\n",
    "#results"
   ]
  },
  {
   "cell_type": "code",
   "execution_count": 17,
   "metadata": {},
   "outputs": [],
   "source": [
    "# loop over results to get article data\n",
    "# for result in results:\n",
    "#     # scrape the article header \n",
    "#     header = result.find('div', class_='content_title').text\n",
    "    \n",
    "#     # scrape the article subheader\n",
    "#     subheader = result.find('div', class_='article_teaser_body').text\n",
    "    \n",
    "    \n",
    "#     # print article data\n",
    "#     print('-----------------')\n",
    "#     print(header)\n",
    "#     print(subheader)\n"
   ]
  },
  {
   "cell_type": "code",
   "execution_count": 18,
   "metadata": {},
   "outputs": [
    {
     "name": "stdout",
     "output_type": "stream",
     "text": [
      "-------------\n",
      "With Mars Methane Mystery Unsolved, Curiosity Serves Scientists a New One: Oxygen\n",
      "-------------\n",
      "The Launch Is Approaching for NASA's Next Mars Rover, Perseverance\n",
      "-------------\n",
      "NASA's Curiosity Takes Selfie With 'Mary Anning' on the Red Planet\n",
      "-------------\n",
      "NASA to Reveal Name of Its Next Mars Rover\n",
      "-------------\n",
      "My Culture, My Voice\n",
      "-------------\n",
      "NASA's New Mars Rover Will Use X-Rays to Hunt Fossils\n",
      "-------------\n",
      "NASA's Perseverance Rover Goes Through Trials by Fire, Ice, Light and Sound\n",
      "-------------\n",
      "NASA's Mars 2020 Comes Full Circle\n",
      "-------------\n",
      "7 Things to Know About the Mars 2020 Perseverance Rover Mission\n",
      "-------------\n",
      "NASA InSight's 'Mole' Is Out of Sight\n",
      "-------------\n",
      "The Extraordinary Sample-Gathering System of NASA's Perseverance Mars Rover\n",
      "-------------\n",
      "NASA Moves Forward With Campaign to Return Mars Samples to Earth\n",
      "-------------\n",
      "NASA's Mars Reconnaissance Orbiter Undergoes Memory Update\n",
      "-------------\n",
      "A New Video Captures the Science of NASA's Perseverance Mars Rover\n",
      "-------------\n",
      "NASA's Curiosity Mars Rover Snaps Its Highest-Resolution Panorama Yet\n",
      "-------------\n",
      "With Mars Methane Mystery Unsolved, Curiosity Serves Scientists a New One: Oxygen\n",
      "-------------\n",
      "The Launch Is Approaching for NASA's Next Mars Rover, Perseverance\n",
      "-------------\n",
      "NASA's Curiosity Takes Selfie With 'Mary Anning' on the Red Planet\n",
      "-------------\n",
      "NASA to Reveal Name of Its Next Mars Rover\n",
      "-------------\n",
      "My Culture, My Voice\n",
      "-------------\n",
      "NASA's New Mars Rover Will Use X-Rays to Hunt Fossils\n",
      "-------------\n",
      "NASA's Perseverance Rover Goes Through Trials by Fire, Ice, Light and Sound\n",
      "-------------\n",
      "NASA's Mars 2020 Comes Full Circle\n",
      "-------------\n",
      "7 Things to Know About the Mars 2020 Perseverance Rover Mission\n",
      "-------------\n",
      "NASA InSight's 'Mole' Is Out of Sight\n",
      "-------------\n",
      "The Extraordinary Sample-Gathering System of NASA's Perseverance Mars Rover\n",
      "-------------\n",
      "NASA Moves Forward With Campaign to Return Mars Samples to Earth\n",
      "-------------\n",
      "NASA's Mars Reconnaissance Orbiter Undergoes Memory Update\n",
      "-------------\n",
      "A New Video Captures the Science of NASA's Perseverance Mars Rover\n",
      "-------------\n",
      "NASA's Curiosity Mars Rover Snaps Its Highest-Resolution Panorama Yet\n",
      "-------------\n",
      "With Mars Methane Mystery Unsolved, Curiosity Serves Scientists a New One: Oxygen\n",
      "-------------\n",
      "The Launch Is Approaching for NASA's Next Mars Rover, Perseverance\n",
      "-------------\n",
      "NASA's Curiosity Takes Selfie With 'Mary Anning' on the Red Planet\n",
      "-------------\n",
      "NASA to Reveal Name of Its Next Mars Rover\n",
      "-------------\n",
      "My Culture, My Voice\n",
      "-------------\n",
      "NASA's New Mars Rover Will Use X-Rays to Hunt Fossils\n",
      "-------------\n",
      "NASA's Perseverance Rover Goes Through Trials by Fire, Ice, Light and Sound\n",
      "-------------\n",
      "NASA's Mars 2020 Comes Full Circle\n",
      "-------------\n",
      "7 Things to Know About the Mars 2020 Perseverance Rover Mission\n",
      "-------------\n",
      "NASA InSight's 'Mole' Is Out of Sight\n",
      "-------------\n",
      "The Extraordinary Sample-Gathering System of NASA's Perseverance Mars Rover\n",
      "-------------\n",
      "NASA Moves Forward With Campaign to Return Mars Samples to Earth\n",
      "-------------\n",
      "NASA's Mars Reconnaissance Orbiter Undergoes Memory Update\n",
      "-------------\n",
      "A New Video Captures the Science of NASA's Perseverance Mars Rover\n",
      "-------------\n",
      "NASA's Curiosity Mars Rover Snaps Its Highest-Resolution Panorama Yet\n",
      "-------------\n",
      "With Mars Methane Mystery Unsolved, Curiosity Serves Scientists a New One: Oxygen\n",
      "-------------\n",
      "The Launch Is Approaching for NASA's Next Mars Rover, Perseverance\n",
      "-------------\n",
      "NASA's Curiosity Takes Selfie With 'Mary Anning' on the Red Planet\n",
      "-------------\n",
      "NASA to Reveal Name of Its Next Mars Rover\n",
      "-------------\n",
      "My Culture, My Voice\n",
      "-------------\n",
      "NASA's New Mars Rover Will Use X-Rays to Hunt Fossils\n",
      "-------------\n",
      "NASA's Perseverance Rover Goes Through Trials by Fire, Ice, Light and Sound\n",
      "-------------\n",
      "NASA's Mars 2020 Comes Full Circle\n",
      "-------------\n",
      "7 Things to Know About the Mars 2020 Perseverance Rover Mission\n",
      "-------------\n",
      "NASA InSight's 'Mole' Is Out of Sight\n",
      "-------------\n",
      "The Extraordinary Sample-Gathering System of NASA's Perseverance Mars Rover\n",
      "-------------\n",
      "NASA Moves Forward With Campaign to Return Mars Samples to Earth\n",
      "-------------\n",
      "NASA's Mars Reconnaissance Orbiter Undergoes Memory Update\n",
      "-------------\n",
      "A New Video Captures the Science of NASA's Perseverance Mars Rover\n",
      "-------------\n",
      "NASA's Curiosity Mars Rover Snaps Its Highest-Resolution Panorama Yet\n",
      "-------------\n",
      "With Mars Methane Mystery Unsolved, Curiosity Serves Scientists a New One: Oxygen\n",
      "-------------\n",
      "The Launch Is Approaching for NASA's Next Mars Rover, Perseverance\n",
      "-------------\n",
      "NASA's Curiosity Takes Selfie With 'Mary Anning' on the Red Planet\n",
      "-------------\n",
      "NASA to Reveal Name of Its Next Mars Rover\n",
      "-------------\n",
      "My Culture, My Voice\n",
      "-------------\n",
      "NASA's New Mars Rover Will Use X-Rays to Hunt Fossils\n",
      "-------------\n",
      "NASA's Perseverance Rover Goes Through Trials by Fire, Ice, Light and Sound\n",
      "-------------\n",
      "NASA's Mars 2020 Comes Full Circle\n",
      "-------------\n",
      "7 Things to Know About the Mars 2020 Perseverance Rover Mission\n",
      "-------------\n",
      "NASA InSight's 'Mole' Is Out of Sight\n",
      "-------------\n",
      "The Extraordinary Sample-Gathering System of NASA's Perseverance Mars Rover\n",
      "-------------\n",
      "NASA Moves Forward With Campaign to Return Mars Samples to Earth\n",
      "-------------\n",
      "NASA's Mars Reconnaissance Orbiter Undergoes Memory Update\n",
      "-------------\n",
      "A New Video Captures the Science of NASA's Perseverance Mars Rover\n",
      "-------------\n",
      "NASA's Curiosity Mars Rover Snaps Its Highest-Resolution Panorama Yet\n"
     ]
    }
   ],
   "source": [
    "for x in range(1, 6):\n",
    "\n",
    "    html = browser.html\n",
    "    soup = bs(html, 'html.parser')\n",
    "\n",
    "    titles = soup.find_all('div', class_='content_title')\n",
    "    article_teasers = soup.find_all('div', class_='article_teaser_body')\n",
    "\n",
    "    for title in titles:\n",
    "        print('-------------')\n",
    "        print(title.text)\n",
    "        #print(article_teasers.text)\n",
    "\n",
    "    #browser.links.find_by_partial_text('Next').click()"
   ]
  },
  {
   "cell_type": "code",
   "execution_count": null,
   "metadata": {},
   "outputs": [],
   "source": [
    "browser.quit()"
   ]
  },
  {
   "cell_type": "code",
   "execution_count": null,
   "metadata": {},
   "outputs": [],
   "source": []
  }
 ],
 "metadata": {
  "kernelspec": {
   "display_name": "Python 3",
   "language": "python",
   "name": "python3"
  },
  "language_info": {
   "codemirror_mode": {
    "name": "ipython",
    "version": 3
   },
   "file_extension": ".py",
   "mimetype": "text/x-python",
   "name": "python",
   "nbconvert_exporter": "python",
   "pygments_lexer": "ipython3",
   "version": "3.6.10"
  }
 },
 "nbformat": 4,
 "nbformat_minor": 4
}
